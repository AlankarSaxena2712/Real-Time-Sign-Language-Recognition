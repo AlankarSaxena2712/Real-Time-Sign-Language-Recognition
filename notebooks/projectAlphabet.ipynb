{
  "nbformat": 4,
  "nbformat_minor": 0,
  "metadata": {
    "colab": {
      "name": "projectAlphabet.ipynb",
      "provenance": []
    },
    "kernelspec": {
      "name": "python3",
      "display_name": "Python 3"
    },
    "language_info": {
      "name": "python"
    },
    "accelerator": "GPU"
  },
  "cells": [
    {
      "cell_type": "code",
      "execution_count": null,
      "metadata": {
        "id": "kyoWhErmk3t0"
      },
      "outputs": [],
      "source": [
        "from google.colab import drive\n",
        "drive.mount('/content/drive')"
      ]
    },
    {
      "cell_type": "code",
      "source": [
        "# import the neccessary libraries\n",
        "import os\n",
        "import numpy as np\n",
        "from tensorflow.keras.preprocessing.image import load_img, img_to_array, ImageDataGenerator\n",
        "from tensorflow.keras.utils import to_categorical\n",
        "from sklearn.model_selection import train_test_split\n",
        "from tensorflow.keras.models import Sequential\n",
        "from tensorflow.keras.layers import Dense, BatchNormalization, Flatten\n",
        "from tensorflow.keras.layers import Conv2D, MaxPooling2D, Dropout, GlobalAveragePooling2D\n",
        "from tensorflow.keras.applications import MobileNetV2\n",
        "from tensorflow.keras.models import Model\n",
        "from tensorflow.keras.callbacks import EarlyStopping\n",
        "from sklearn.metrics import accuracy_score"
      ],
      "metadata": {
        "id": "SRD3aJdjnC5u"
      },
      "execution_count": 1,
      "outputs": []
    },
    {
      "cell_type": "code",
      "source": [
        "# load the data and label in separate lists\n",
        "alphabets_directory = '/content/drive/MyDrive/Dataset/Alphabets'\n",
        "data = []\n",
        "label = []\n",
        "i = 0\n",
        "for alphabet in os.listdir(alphabets_directory):\n",
        "    alphabets_path = os.path.join(alphabets_directory, alphabet)\n",
        "    for image in os.listdir(alphabets_path):\n",
        "        image_path = os.path.join(alphabets_path, image)\n",
        "        img = load_img(image_path, target_size=(64, 64))\n",
        "        img = img_to_array(img)\n",
        "        data.append(img)\n",
        "        label.append(i)\n",
        "    i+=1\n",
        "\n",
        "# print(\"-----Completed-----\")"
      ],
      "metadata": {
        "id": "iTXsHdBDm7dj"
      },
      "execution_count": 2,
      "outputs": []
    },
    {
      "cell_type": "code",
      "source": [
        "# convert the lists to numpy arrays\n",
        "data = np.array(data)\n",
        "label = np.array(label)"
      ],
      "metadata": {
        "id": "1W-hfg9ZnuRK"
      },
      "execution_count": 3,
      "outputs": []
    },
    {
      "cell_type": "code",
      "source": [
        "# check the size of the data and labels\n",
        "print(data.shape)\n",
        "print(label.shape)"
      ],
      "metadata": {
        "colab": {
          "base_uri": "https://localhost:8080/"
        },
        "id": "Y_ew58QDnwce",
        "outputId": "a5b3cee4-38a4-498f-e402-789fb5a9dcc3"
      },
      "execution_count": 4,
      "outputs": [
        {
          "output_type": "stream",
          "name": "stdout",
          "text": [
            "(26040, 64, 64, 3)\n",
            "(26040,)\n"
          ]
        }
      ]
    },
    {
      "cell_type": "code",
      "source": [
        "# converting the numeral labels to array like label\n",
        "label = to_categorical(label)"
      ],
      "metadata": {
        "id": "_5wXwq0mnwe0"
      },
      "execution_count": 5,
      "outputs": []
    },
    {
      "cell_type": "code",
      "source": [
        "# shuffle the data\n",
        "n = np.arange(26040)\n",
        "np.random.shuffle(n)\n",
        "data_shuffled = data[n]\n",
        "label_shuffled = label[n]\n",
        "\n",
        "print(\"---Shuffling Completed Succesfully---\")"
      ],
      "metadata": {
        "colab": {
          "base_uri": "https://localhost:8080/"
        },
        "id": "L6gKfeoynwiF",
        "outputId": "52332994-fa3e-4bb2-cf3b-99ef489c8ece"
      },
      "execution_count": 6,
      "outputs": [
        {
          "output_type": "stream",
          "name": "stdout",
          "text": [
            "---Shuffling Completed Succesfully---\n"
          ]
        }
      ]
    },
    {
      "cell_type": "code",
      "source": [
        "data_shuffled = data_shuffled/255.0"
      ],
      "metadata": {
        "id": "YJJiYHvYnwnE"
      },
      "execution_count": 7,
      "outputs": []
    },
    {
      "cell_type": "code",
      "source": [
        "# split the data into train and test data\n",
        "# train-size: 80%\n",
        "# val-size: 20%\n",
        "x_train, x_test, y_train, y_test = train_test_split(data_shuffled, label_shuffled, test_size=0.1, stratify=label, random_state=12)"
      ],
      "metadata": {
        "id": "lYitU4hpnwpf"
      },
      "execution_count": 8,
      "outputs": []
    },
    {
      "cell_type": "code",
      "source": [
        "# make a sequential model\n",
        "\n",
        "model = Sequential()\n",
        "\n",
        "model.add(Conv2D(64, (3,3), activation='relu', input_shape=(64,64,3)))\n",
        "model.add(MaxPooling2D(2,2))\n",
        "model.add(BatchNormalization())\n",
        "model.add(Dropout(0.2))\n",
        "\n",
        "model.add(Conv2D(64, (3,3), activation='relu'))\n",
        "model.add(MaxPooling2D(2,2))\n",
        "model.add(BatchNormalization())\n",
        "model.add(Dropout(0.2))\n",
        "\n",
        "model.add(Conv2D(64, (3,3), activation='relu'))\n",
        "model.add(MaxPooling2D(2,2))\n",
        "model.add(BatchNormalization())\n",
        "model.add(Dropout(0.2))\n",
        "\n",
        "model.add(Flatten())\n",
        "model.add(Dense(256, activation='relu'))\n",
        "model.add(Dense(26, activation='softmax'))"
      ],
      "metadata": {
        "id": "Zl8_WGeDnwrl"
      },
      "execution_count": 9,
      "outputs": []
    },
    {
      "cell_type": "code",
      "source": [
        "model.summary()"
      ],
      "metadata": {
        "id": "--ehPrKRoRmN",
        "colab": {
          "base_uri": "https://localhost:8080/"
        },
        "outputId": "862ef3a8-c98d-48e8-95a3-e72a10dfbac7"
      },
      "execution_count": 10,
      "outputs": [
        {
          "output_type": "stream",
          "name": "stdout",
          "text": [
            "Model: \"sequential\"\n",
            "_________________________________________________________________\n",
            " Layer (type)                Output Shape              Param #   \n",
            "=================================================================\n",
            " conv2d (Conv2D)             (None, 62, 62, 64)        1792      \n",
            "                                                                 \n",
            " max_pooling2d (MaxPooling2D  (None, 31, 31, 64)       0         \n",
            " )                                                               \n",
            "                                                                 \n",
            " batch_normalization (BatchN  (None, 31, 31, 64)       256       \n",
            " ormalization)                                                   \n",
            "                                                                 \n",
            " dropout (Dropout)           (None, 31, 31, 64)        0         \n",
            "                                                                 \n",
            " conv2d_1 (Conv2D)           (None, 29, 29, 64)        36928     \n",
            "                                                                 \n",
            " max_pooling2d_1 (MaxPooling  (None, 14, 14, 64)       0         \n",
            " 2D)                                                             \n",
            "                                                                 \n",
            " batch_normalization_1 (Batc  (None, 14, 14, 64)       256       \n",
            " hNormalization)                                                 \n",
            "                                                                 \n",
            " dropout_1 (Dropout)         (None, 14, 14, 64)        0         \n",
            "                                                                 \n",
            " conv2d_2 (Conv2D)           (None, 12, 12, 64)        36928     \n",
            "                                                                 \n",
            " max_pooling2d_2 (MaxPooling  (None, 6, 6, 64)         0         \n",
            " 2D)                                                             \n",
            "                                                                 \n",
            " batch_normalization_2 (Batc  (None, 6, 6, 64)         256       \n",
            " hNormalization)                                                 \n",
            "                                                                 \n",
            " dropout_2 (Dropout)         (None, 6, 6, 64)          0         \n",
            "                                                                 \n",
            " flatten (Flatten)           (None, 2304)              0         \n",
            "                                                                 \n",
            " dense (Dense)               (None, 256)               590080    \n",
            "                                                                 \n",
            " dense_1 (Dense)             (None, 26)                6682      \n",
            "                                                                 \n",
            "=================================================================\n",
            "Total params: 673,178\n",
            "Trainable params: 672,794\n",
            "Non-trainable params: 384\n",
            "_________________________________________________________________\n"
          ]
        }
      ]
    },
    {
      "cell_type": "code",
      "source": [
        "# compile the model\n",
        "model.compile(\n",
        "    optimizer='adam',\n",
        "    loss='categorical_crossentropy',\n",
        "    metrics=['accuracy']\n",
        ")"
      ],
      "metadata": {
        "id": "sDa98TjtoRod"
      },
      "execution_count": 11,
      "outputs": []
    },
    {
      "cell_type": "code",
      "source": [
        "# set callbacks\n",
        "callback = EarlyStopping(\n",
        "    monitor='loss',\n",
        "    patience=3\n",
        ")"
      ],
      "metadata": {
        "id": "BThbfRlqoRrK"
      },
      "execution_count": 12,
      "outputs": []
    },
    {
      "cell_type": "code",
      "source": [
        "# fit the train data into the model\n",
        "b = model.fit(\n",
        "    x_train, y_train,\n",
        "    epochs=40,\n",
        "    callbacks=[callback],\n",
        ")"
      ],
      "metadata": {
        "id": "E_L65Wj2oYIJ",
        "colab": {
          "base_uri": "https://localhost:8080/"
        },
        "outputId": "4fcfecc6-99db-4efa-be13-f6c566aad5cc"
      },
      "execution_count": 13,
      "outputs": [
        {
          "output_type": "stream",
          "name": "stdout",
          "text": [
            "Epoch 1/40\n",
            "733/733 [==============================] - 24s 18ms/step - loss: 0.0648 - accuracy: 0.9819\n",
            "Epoch 2/40\n",
            "733/733 [==============================] - 13s 18ms/step - loss: 0.0080 - accuracy: 0.9977\n",
            "Epoch 3/40\n",
            "733/733 [==============================] - 13s 18ms/step - loss: 6.7946e-04 - accuracy: 0.9998\n",
            "Epoch 4/40\n",
            "733/733 [==============================] - 13s 18ms/step - loss: 0.0192 - accuracy: 0.9959\n",
            "Epoch 5/40\n",
            "733/733 [==============================] - 13s 18ms/step - loss: 0.0078 - accuracy: 0.9986\n",
            "Epoch 6/40\n",
            "733/733 [==============================] - 13s 18ms/step - loss: 0.0091 - accuracy: 0.9986\n"
          ]
        }
      ]
    },
    {
      "cell_type": "code",
      "source": [
        "len(b.history['loss'])"
      ],
      "metadata": {
        "id": "fJXTSiUooYKm",
        "colab": {
          "base_uri": "https://localhost:8080/"
        },
        "outputId": "d3313dfe-2ab6-4d02-c5c1-25d74cd08b16"
      },
      "execution_count": 14,
      "outputs": [
        {
          "output_type": "execute_result",
          "data": {
            "text/plain": [
              "6"
            ]
          },
          "metadata": {},
          "execution_count": 14
        }
      ]
    },
    {
      "cell_type": "code",
      "source": [
        "y_pred_custom = model.predict(x_test)"
      ],
      "metadata": {
        "id": "tF7Sd-LeoYM-"
      },
      "execution_count": 15,
      "outputs": []
    },
    {
      "cell_type": "code",
      "source": [
        "acc = accuracy_score(np.argmax(y_test, axis=1), np.argmax(y_pred_custom, axis=1))\n",
        "acc*100"
      ],
      "metadata": {
        "id": "NTQYTcpjoYPV",
        "colab": {
          "base_uri": "https://localhost:8080/"
        },
        "outputId": "33f437de-4eea-4a58-b1b9-d3419c6e9262"
      },
      "execution_count": 16,
      "outputs": [
        {
          "output_type": "execute_result",
          "data": {
            "text/plain": [
              "99.88479262672811"
            ]
          },
          "metadata": {},
          "execution_count": 16
        }
      ]
    },
    {
      "cell_type": "code",
      "source": [
        "# save the model\n",
        "model.save('alphabet_model.h5')"
      ],
      "metadata": {
        "id": "JdYNUxKFoi33"
      },
      "execution_count": null,
      "outputs": []
    }
  ]
}