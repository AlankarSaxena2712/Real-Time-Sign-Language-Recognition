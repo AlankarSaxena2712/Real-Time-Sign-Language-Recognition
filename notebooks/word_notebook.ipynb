{
  "nbformat": 4,
  "nbformat_minor": 0,
  "metadata": {
    "colab": {
      "name": "word-notebook.ipynb",
      "provenance": []
    },
    "kernelspec": {
      "name": "python3",
      "display_name": "Python 3"
    },
    "language_info": {
      "name": "python"
    },
    "accelerator": "GPU"
  },
  "cells": [
    {
      "cell_type": "code",
      "execution_count": 4,
      "metadata": {
        "id": "kyoWhErmk3t0",
        "colab": {
          "base_uri": "https://localhost:8080/"
        },
        "outputId": "2bc86a5f-c70f-4f33-e407-5a44a17eaae8"
      },
      "outputs": [
        {
          "output_type": "stream",
          "name": "stdout",
          "text": [
            "Mounted at /content/drive\n"
          ]
        }
      ],
      "source": [
        "from google.colab import drive\n",
        "drive.mount('/content/drive')"
      ]
    },
    {
      "cell_type": "code",
      "source": [
        "# import the neccessary libraries\n",
        "import os\n",
        "import numpy as np\n",
        "from tensorflow.keras.preprocessing.image import load_img, img_to_array, ImageDataGenerator\n",
        "from tensorflow.keras.utils import to_categorical\n",
        "from sklearn.model_selection import train_test_split\n",
        "from tensorflow.keras.models import Sequential\n",
        "from tensorflow.keras.layers import Dense, BatchNormalization, Flatten\n",
        "from tensorflow.keras.layers import Conv2D, MaxPooling2D, Dropout, GlobalAveragePooling2D\n",
        "from tensorflow.keras.applications import MobileNetV2\n",
        "from tensorflow.keras.models import Model\n",
        "from tensorflow.keras.callbacks import EarlyStopping\n",
        "from sklearn.metrics import accuracy_score"
      ],
      "metadata": {
        "id": "SRD3aJdjnC5u"
      },
      "execution_count": 1,
      "outputs": []
    },
    {
      "cell_type": "code",
      "source": [
        "# load the data and label in separate lists\n",
        "words_directory = '/content/drive/MyDrive/Dataset/Static-Word'\n",
        "data = []\n",
        "label = []\n",
        "i = 0\n",
        "for word in os.listdir(words_directory):\n",
        "    words_path = os.path.join(words_directory, word)\n",
        "    for image in os.listdir(words_path):\n",
        "        image_path = os.path.join(words_path, image)\n",
        "        img = load_img(image_path, target_size=(64, 64))\n",
        "        img = img_to_array(img)\n",
        "        data.append(img)\n",
        "        label.append(i)\n",
        "    i+=1\n",
        "\n",
        "# print(\"-----Completed-----\")"
      ],
      "metadata": {
        "id": "iTXsHdBDm7dj"
      },
      "execution_count": 5,
      "outputs": []
    },
    {
      "cell_type": "code",
      "source": [
        "# convert the lists to numpy arrays\n",
        "data = np.array(data)\n",
        "label = np.array(label)"
      ],
      "metadata": {
        "id": "1W-hfg9ZnuRK"
      },
      "execution_count": 6,
      "outputs": []
    },
    {
      "cell_type": "code",
      "source": [
        "# check the size of the data and labels\n",
        "print(data.shape)\n",
        "print(label.shape)"
      ],
      "metadata": {
        "colab": {
          "base_uri": "https://localhost:8080/"
        },
        "id": "Y_ew58QDnwce",
        "outputId": "5bec4fa9-619a-41fb-ea5b-395dd4435206"
      },
      "execution_count": 7,
      "outputs": [
        {
          "output_type": "stream",
          "name": "stdout",
          "text": [
            "(37864, 64, 64, 3)\n",
            "(37864,)\n"
          ]
        }
      ]
    },
    {
      "cell_type": "code",
      "source": [
        "# converting the numeral labels to array like label\n",
        "label = to_categorical(label)"
      ],
      "metadata": {
        "id": "_5wXwq0mnwe0"
      },
      "execution_count": 8,
      "outputs": []
    },
    {
      "cell_type": "code",
      "source": [
        "# shuffle the data\n",
        "n = np.arange(data.shape[0])\n",
        "np.random.shuffle(n)\n",
        "data_shuffled = data[n]\n",
        "label_shuffled = label[n]\n",
        "\n",
        "print(\"---Shuffling Completed Succesfully---\")"
      ],
      "metadata": {
        "colab": {
          "base_uri": "https://localhost:8080/"
        },
        "id": "L6gKfeoynwiF",
        "outputId": "315a401b-cca7-4906-f241-1d10b1a842ba"
      },
      "execution_count": 9,
      "outputs": [
        {
          "output_type": "stream",
          "name": "stdout",
          "text": [
            "---Shuffling Completed Succesfully---\n"
          ]
        }
      ]
    },
    {
      "cell_type": "code",
      "source": [
        "data_shuffled = data_shuffled/255.0"
      ],
      "metadata": {
        "id": "YJJiYHvYnwnE"
      },
      "execution_count": 10,
      "outputs": []
    },
    {
      "cell_type": "code",
      "source": [
        "# split the data into train and test data\n",
        "# train-size: 80%\n",
        "# val-size: 20%\n",
        "x_train, x_test, y_train, y_test = train_test_split(data_shuffled, label_shuffled, test_size=0.1, stratify=label, random_state=12)"
      ],
      "metadata": {
        "id": "lYitU4hpnwpf"
      },
      "execution_count": 11,
      "outputs": []
    },
    {
      "cell_type": "code",
      "source": [
        "# make a sequential model\n",
        "\n",
        "model = Sequential()\n",
        "\n",
        "model.add(Conv2D(64, (3,3), activation='relu', input_shape=(64,64,3)))\n",
        "model.add(MaxPooling2D(2,2))\n",
        "model.add(BatchNormalization())\n",
        "model.add(Dropout(0.2))\n",
        "\n",
        "model.add(Conv2D(64, (3,3), activation='relu'))\n",
        "model.add(MaxPooling2D(2,2))\n",
        "model.add(BatchNormalization())\n",
        "model.add(Dropout(0.2))\n",
        "\n",
        "model.add(Conv2D(64, (3,3), activation='relu'))\n",
        "model.add(MaxPooling2D(2,2))\n",
        "model.add(BatchNormalization())\n",
        "model.add(Dropout(0.2))\n",
        "\n",
        "model.add(Flatten())\n",
        "model.add(Dense(256, activation='relu'))\n",
        "model.add(Dense(37, activation='softmax'))"
      ],
      "metadata": {
        "id": "Zl8_WGeDnwrl"
      },
      "execution_count": 13,
      "outputs": []
    },
    {
      "cell_type": "code",
      "source": [
        "model.summary()"
      ],
      "metadata": {
        "id": "--ehPrKRoRmN",
        "colab": {
          "base_uri": "https://localhost:8080/"
        },
        "outputId": "144db1d1-d707-47fc-ef2b-9e43a7410266"
      },
      "execution_count": 14,
      "outputs": [
        {
          "output_type": "stream",
          "name": "stdout",
          "text": [
            "Model: \"sequential_1\"\n",
            "_________________________________________________________________\n",
            " Layer (type)                Output Shape              Param #   \n",
            "=================================================================\n",
            " conv2d_3 (Conv2D)           (None, 62, 62, 64)        1792      \n",
            "                                                                 \n",
            " max_pooling2d_3 (MaxPooling  (None, 31, 31, 64)       0         \n",
            " 2D)                                                             \n",
            "                                                                 \n",
            " batch_normalization_3 (Batc  (None, 31, 31, 64)       256       \n",
            " hNormalization)                                                 \n",
            "                                                                 \n",
            " dropout_3 (Dropout)         (None, 31, 31, 64)        0         \n",
            "                                                                 \n",
            " conv2d_4 (Conv2D)           (None, 29, 29, 64)        36928     \n",
            "                                                                 \n",
            " max_pooling2d_4 (MaxPooling  (None, 14, 14, 64)       0         \n",
            " 2D)                                                             \n",
            "                                                                 \n",
            " batch_normalization_4 (Batc  (None, 14, 14, 64)       256       \n",
            " hNormalization)                                                 \n",
            "                                                                 \n",
            " dropout_4 (Dropout)         (None, 14, 14, 64)        0         \n",
            "                                                                 \n",
            " conv2d_5 (Conv2D)           (None, 12, 12, 64)        36928     \n",
            "                                                                 \n",
            " max_pooling2d_5 (MaxPooling  (None, 6, 6, 64)         0         \n",
            " 2D)                                                             \n",
            "                                                                 \n",
            " batch_normalization_5 (Batc  (None, 6, 6, 64)         256       \n",
            " hNormalization)                                                 \n",
            "                                                                 \n",
            " dropout_5 (Dropout)         (None, 6, 6, 64)          0         \n",
            "                                                                 \n",
            " flatten_1 (Flatten)         (None, 2304)              0         \n",
            "                                                                 \n",
            " dense_2 (Dense)             (None, 256)               590080    \n",
            "                                                                 \n",
            " dense_3 (Dense)             (None, 37)                9509      \n",
            "                                                                 \n",
            "=================================================================\n",
            "Total params: 676,005\n",
            "Trainable params: 675,621\n",
            "Non-trainable params: 384\n",
            "_________________________________________________________________\n"
          ]
        }
      ]
    },
    {
      "cell_type": "code",
      "source": [
        "# compile the model\n",
        "model.compile(\n",
        "    optimizer='adam',\n",
        "    loss='categorical_crossentropy',\n",
        "    metrics=['accuracy']\n",
        ")"
      ],
      "metadata": {
        "id": "sDa98TjtoRod"
      },
      "execution_count": 15,
      "outputs": []
    },
    {
      "cell_type": "code",
      "source": [
        "# set callbacks\n",
        "callback = EarlyStopping(\n",
        "    monitor='loss',\n",
        "    patience=3\n",
        ")"
      ],
      "metadata": {
        "id": "BThbfRlqoRrK"
      },
      "execution_count": 16,
      "outputs": []
    },
    {
      "cell_type": "code",
      "source": [
        "# fit the train data into the model\n",
        "b = model.fit(\n",
        "    x_train, y_train,\n",
        "    epochs=40,\n",
        "    callbacks=[callback],\n",
        ")"
      ],
      "metadata": {
        "id": "E_L65Wj2oYIJ",
        "colab": {
          "base_uri": "https://localhost:8080/"
        },
        "outputId": "11f94292-263d-4b34-cde5-0b409e7c233c"
      },
      "execution_count": 17,
      "outputs": [
        {
          "output_type": "stream",
          "name": "stdout",
          "text": [
            "Epoch 1/40\n",
            "1065/1065 [==============================] - 30s 18ms/step - loss: 0.2285 - accuracy: 0.9303\n",
            "Epoch 2/40\n",
            "1065/1065 [==============================] - 19s 18ms/step - loss: 0.0433 - accuracy: 0.9874\n",
            "Epoch 3/40\n",
            "1065/1065 [==============================] - 19s 18ms/step - loss: 0.0375 - accuracy: 0.9900\n",
            "Epoch 4/40\n",
            "1065/1065 [==============================] - 19s 18ms/step - loss: 0.0090 - accuracy: 0.9976\n",
            "Epoch 5/40\n",
            "1065/1065 [==============================] - 19s 18ms/step - loss: 0.0346 - accuracy: 0.9908\n",
            "Epoch 6/40\n",
            "1065/1065 [==============================] - 19s 18ms/step - loss: 0.0181 - accuracy: 0.9952\n",
            "Epoch 7/40\n",
            "1065/1065 [==============================] - 19s 18ms/step - loss: 0.0131 - accuracy: 0.9972\n"
          ]
        }
      ]
    },
    {
      "cell_type": "code",
      "source": [
        "len(b.history['loss'])"
      ],
      "metadata": {
        "id": "fJXTSiUooYKm",
        "colab": {
          "base_uri": "https://localhost:8080/"
        },
        "outputId": "fdc63971-06fb-4c8b-fcc0-73caa4721ea5"
      },
      "execution_count": 18,
      "outputs": [
        {
          "output_type": "execute_result",
          "data": {
            "text/plain": [
              "7"
            ]
          },
          "metadata": {},
          "execution_count": 18
        }
      ]
    },
    {
      "cell_type": "code",
      "source": [
        "y_pred_custom = model.predict(x_test)"
      ],
      "metadata": {
        "id": "tF7Sd-LeoYM-"
      },
      "execution_count": 19,
      "outputs": []
    },
    {
      "cell_type": "code",
      "source": [
        "acc = accuracy_score(np.argmax(y_test, axis=1), np.argmax(y_pred_custom, axis=1))\n",
        "acc*100"
      ],
      "metadata": {
        "id": "NTQYTcpjoYPV",
        "colab": {
          "base_uri": "https://localhost:8080/"
        },
        "outputId": "16a9b779-a793-4cc1-90fd-69f8a1276d76"
      },
      "execution_count": 20,
      "outputs": [
        {
          "output_type": "execute_result",
          "data": {
            "text/plain": [
              "96.98970161077371"
            ]
          },
          "metadata": {},
          "execution_count": 20
        }
      ]
    },
    {
      "cell_type": "code",
      "source": [
        "# save the model\n",
        "model.save('alphabet_model.h5')"
      ],
      "metadata": {
        "id": "JdYNUxKFoi33"
      },
      "execution_count": null,
      "outputs": []
    }
  ]
}