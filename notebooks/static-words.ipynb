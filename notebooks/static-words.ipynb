{
  "nbformat": 4,
  "nbformat_minor": 0,
  "metadata": {
    "colab": {
      "name": "Untitled0.ipynb",
      "provenance": []
    },
    "kernelspec": {
      "name": "python3",
      "display_name": "Python 3"
    },
    "language_info": {
      "name": "python"
    },
    "accelerator": "GPU"
  },
  "cells": [
    {
      "cell_type": "code",
      "execution_count": 1,
      "metadata": {
        "colab": {
          "base_uri": "https://localhost:8080/"
        },
        "id": "cEAicR6nbiGd",
        "outputId": "e594beb7-c044-444c-9fee-0203cb8f2830"
      },
      "outputs": [
        {
          "output_type": "stream",
          "name": "stdout",
          "text": [
            "Mounted at /content/drive\n"
          ]
        }
      ],
      "source": [
        "from google.colab import drive\n",
        "drive.mount('/content/drive')"
      ]
    },
    {
      "cell_type": "code",
      "source": [
        "import os\n",
        "import numpy as np\n",
        "import cv2\n",
        "from tensorflow.keras.preprocessing.image import load_img, img_to_array\n",
        "from tensorflow.keras.utils import to_categorical\n",
        "from sklearn.model_selection import train_test_split\n",
        "from tensorflow.keras.models import Sequential\n",
        "from tensorflow.keras.layers import Dense, BatchNormalization, Flatten\n",
        "from tensorflow.keras.layers import Conv2D, MaxPooling2D, Dropout, GlobalAveragePooling2D\n",
        "# from tensorflow.keras.applications import MobileNetV2\n",
        "# from tensorflow.keras.models import Model\n",
        "from tensorflow.keras.callbacks import EarlyStopping\n",
        "from sklearn.metrics import accuracy_score\n",
        "from sklearn.utils import shuffle\n",
        "import matplotlib.pyplot as plt\n",
        "%matplotlib inline"
      ],
      "metadata": {
        "id": "3-oxDioFb0S_"
      },
      "execution_count": 2,
      "outputs": []
    },
    {
      "cell_type": "code",
      "source": [
        "directory = '/content/drive/MyDrive/static-words'"
      ],
      "metadata": {
        "id": "WFMJzgPUb84x"
      },
      "execution_count": 7,
      "outputs": []
    },
    {
      "cell_type": "code",
      "source": [
        "dict_labels = {\n",
        "    'Bus':0,\n",
        "    'CalmDown':1,\n",
        "    'Car':2,\n",
        "    'Church':3,\n",
        "    'Family':4,\n",
        "    'Father':5,\n",
        "    'Fine':6,\n",
        "    'Hungry':7,\n",
        "    'IHateYou':8,\n",
        "    'Key':9,\n",
        "    'Love':10,\n",
        "    'Mother':11,\n",
        "    'Pray':12,\n",
        "    'okay':13\n",
        "}"
      ],
      "metadata": {
        "id": "xB-gX7nxfQQn"
      },
      "execution_count": 5,
      "outputs": []
    },
    {
      "cell_type": "code",
      "source": [
        "images = []\n",
        "labels = []\n",
        "for label in os.listdir(directory):\n",
        "    label_path = os.path.join(directory, label)\n",
        "    for img in os.listdir(label_path):\n",
        "        image_path = os.path.join(label_path, img)\n",
        "        img = load_img(image_path, target_size=(50, 50))\n",
        "        img = img_to_array(img)\n",
        "        images.append(img)\n",
        "        labels.append(dict_labels[label])"
      ],
      "metadata": {
        "id": "QsHlyjyJfGC9"
      },
      "execution_count": 8,
      "outputs": []
    },
    {
      "cell_type": "code",
      "source": [
        "images = np.array(images)\n",
        "labels = np.array(labels)"
      ],
      "metadata": {
        "id": "-cd1NKdQhC9Z"
      },
      "execution_count": 9,
      "outputs": []
    },
    {
      "cell_type": "code",
      "source": [
        "print(\"Shape of data: {}\".format(images.shape))"
      ],
      "metadata": {
        "colab": {
          "base_uri": "https://localhost:8080/"
        },
        "id": "GM_FP7YqhzJR",
        "outputId": "da421275-3363-41f3-daab-bfc2355b47b4"
      },
      "execution_count": 10,
      "outputs": [
        {
          "output_type": "stream",
          "name": "stdout",
          "text": [
            "Shape of data: (19516, 50, 50, 3)\n"
          ]
        }
      ]
    },
    {
      "cell_type": "code",
      "source": [
        "labels = to_categorical(labels, num_classes = 14)"
      ],
      "metadata": {
        "id": "bSzfZ4sNhzLh"
      },
      "execution_count": 11,
      "outputs": []
    },
    {
      "cell_type": "code",
      "source": [
        "images, labels = shuffle(images, labels)"
      ],
      "metadata": {
        "id": "Ro0GH1qVhzOU"
      },
      "execution_count": 12,
      "outputs": []
    },
    {
      "cell_type": "code",
      "source": [
        "images = images / 255.0"
      ],
      "metadata": {
        "id": "lKOWPB6bhzTh"
      },
      "execution_count": 13,
      "outputs": []
    },
    {
      "cell_type": "code",
      "source": [
        "# split the data into train and test data\n",
        "# train-size: 80%\n",
        "# test/val-size: 20%\n",
        "x_train, x_test, y_train, y_test = train_test_split(images, labels, test_size=0.2)"
      ],
      "metadata": {
        "id": "YURC4eivhzV-"
      },
      "execution_count": 14,
      "outputs": []
    },
    {
      "cell_type": "code",
      "source": [
        "print(\"Training images shape: {} || Training labels shape: {}\".format(x_train.shape, y_train.shape))\n",
        "print(\"Test images shape: {} || Test labels shape: {}\".format(x_test.shape, y_test.shape))"
      ],
      "metadata": {
        "colab": {
          "base_uri": "https://localhost:8080/"
        },
        "id": "cDnyj7KjhzYO",
        "outputId": "f65e4194-075d-4f0f-cb32-2ee8527b6766"
      },
      "execution_count": 15,
      "outputs": [
        {
          "output_type": "stream",
          "name": "stdout",
          "text": [
            "Training images shape: (15612, 50, 50, 3) || Training labels shape: (15612, 14)\n",
            "Test images shape: (3904, 50, 50, 3) || Test labels shape: (3904, 14)\n"
          ]
        }
      ]
    },
    {
      "cell_type": "code",
      "source": [
        "model = Sequential()\n",
        "\n",
        "model.add(Conv2D(32, (3,3), activation='relu', input_shape=(50,50,3)))\n",
        "model.add(MaxPooling2D(2,2))\n",
        "\n",
        "model.add(Conv2D(64, (3,3), activation='relu'))\n",
        "model.add(MaxPooling2D(2,2))\n",
        "\n",
        "model.add(Conv2D(64, (3,3), activation='relu'))\n",
        "model.add(MaxPooling2D(2,2))\n",
        "\n",
        "model.add(Flatten())\n",
        "model.add(Dense(256, activation='relu'))\n",
        "model.add(Dropout(0.2))\n",
        "model.add(Dense(14, activation='softmax'))"
      ],
      "metadata": {
        "id": "UgbUf1QMhzag"
      },
      "execution_count": 16,
      "outputs": []
    },
    {
      "cell_type": "code",
      "source": [
        "model.summary()"
      ],
      "metadata": {
        "colab": {
          "base_uri": "https://localhost:8080/"
        },
        "id": "Oro8VF8xhzdE",
        "outputId": "9bdb9291-36be-4cf7-e5f9-5a73b06ed24d"
      },
      "execution_count": 17,
      "outputs": [
        {
          "output_type": "stream",
          "name": "stdout",
          "text": [
            "Model: \"sequential\"\n",
            "_________________________________________________________________\n",
            " Layer (type)                Output Shape              Param #   \n",
            "=================================================================\n",
            " conv2d (Conv2D)             (None, 48, 48, 32)        896       \n",
            "                                                                 \n",
            " max_pooling2d (MaxPooling2D  (None, 24, 24, 32)       0         \n",
            " )                                                               \n",
            "                                                                 \n",
            " conv2d_1 (Conv2D)           (None, 22, 22, 64)        18496     \n",
            "                                                                 \n",
            " max_pooling2d_1 (MaxPooling  (None, 11, 11, 64)       0         \n",
            " 2D)                                                             \n",
            "                                                                 \n",
            " conv2d_2 (Conv2D)           (None, 9, 9, 64)          36928     \n",
            "                                                                 \n",
            " max_pooling2d_2 (MaxPooling  (None, 4, 4, 64)         0         \n",
            " 2D)                                                             \n",
            "                                                                 \n",
            " flatten (Flatten)           (None, 1024)              0         \n",
            "                                                                 \n",
            " dense (Dense)               (None, 256)               262400    \n",
            "                                                                 \n",
            " dropout (Dropout)           (None, 256)               0         \n",
            "                                                                 \n",
            " dense_1 (Dense)             (None, 14)                3598      \n",
            "                                                                 \n",
            "=================================================================\n",
            "Total params: 322,318\n",
            "Trainable params: 322,318\n",
            "Non-trainable params: 0\n",
            "_________________________________________________________________\n"
          ]
        }
      ]
    },
    {
      "cell_type": "code",
      "source": [
        "# compile the model\n",
        "model.compile(\n",
        "    optimizer='adam',\n",
        "    loss='categorical_crossentropy',\n",
        "    metrics=['accuracy']\n",
        ")"
      ],
      "metadata": {
        "id": "k0lQlBoKhzft"
      },
      "execution_count": 18,
      "outputs": []
    },
    {
      "cell_type": "code",
      "source": [
        "# set callbacks\n",
        "callback = EarlyStopping(\n",
        "    monitor='loss',\n",
        "    patience=3\n",
        ")"
      ],
      "metadata": {
        "id": "N_73k98ChziO"
      },
      "execution_count": 19,
      "outputs": []
    },
    {
      "cell_type": "code",
      "source": [
        "# fit the train data into the model\n",
        "history = model.fit(\n",
        "    x_train, y_train,\n",
        "    epochs=20,\n",
        "    callbacks=[callback],\n",
        "    batch_size=32,\n",
        "    validation_data=(x_test, y_test)\n",
        ")"
      ],
      "metadata": {
        "colab": {
          "base_uri": "https://localhost:8080/"
        },
        "id": "KEEdXMO5iZSF",
        "outputId": "1be0f9a8-9f28-41fc-de99-7ab396ae0c8d"
      },
      "execution_count": 20,
      "outputs": [
        {
          "output_type": "stream",
          "name": "stdout",
          "text": [
            "Epoch 1/20\n",
            "488/488 [==============================] - 17s 13ms/step - loss: 0.0982 - accuracy: 0.9726 - val_loss: 7.5193e-07 - val_accuracy: 1.0000\n",
            "Epoch 2/20\n",
            "488/488 [==============================] - 6s 11ms/step - loss: 2.1865e-05 - accuracy: 1.0000 - val_loss: 4.0398e-07 - val_accuracy: 1.0000\n",
            "Epoch 3/20\n",
            "488/488 [==============================] - 5s 11ms/step - loss: 6.2438e-06 - accuracy: 1.0000 - val_loss: 7.8078e-08 - val_accuracy: 1.0000\n",
            "Epoch 4/20\n",
            "488/488 [==============================] - 5s 11ms/step - loss: 2.8398e-06 - accuracy: 1.0000 - val_loss: 1.4871e-08 - val_accuracy: 1.0000\n",
            "Epoch 5/20\n",
            "488/488 [==============================] - 6s 11ms/step - loss: 5.0662e-06 - accuracy: 1.0000 - val_loss: 4.1986e-08 - val_accuracy: 1.0000\n",
            "Epoch 6/20\n",
            "488/488 [==============================] - 5s 11ms/step - loss: 8.9805e-07 - accuracy: 1.0000 - val_loss: 1.1909e-09 - val_accuracy: 1.0000\n",
            "Epoch 7/20\n",
            "488/488 [==============================] - 5s 11ms/step - loss: 3.0799e-07 - accuracy: 1.0000 - val_loss: 1.0382e-09 - val_accuracy: 1.0000\n",
            "Epoch 8/20\n",
            "488/488 [==============================] - 5s 11ms/step - loss: 3.8177e-07 - accuracy: 1.0000 - val_loss: 7.6338e-10 - val_accuracy: 1.0000\n",
            "Epoch 9/20\n",
            "488/488 [==============================] - 5s 11ms/step - loss: 1.5851e-07 - accuracy: 1.0000 - val_loss: 6.4124e-10 - val_accuracy: 1.0000\n",
            "Epoch 10/20\n",
            "488/488 [==============================] - 5s 11ms/step - loss: 1.3875e-07 - accuracy: 1.0000 - val_loss: 5.1910e-10 - val_accuracy: 1.0000\n",
            "Epoch 11/20\n",
            "488/488 [==============================] - 5s 11ms/step - loss: 9.1704e-08 - accuracy: 1.0000 - val_loss: 2.7482e-10 - val_accuracy: 1.0000\n",
            "Epoch 12/20\n",
            "488/488 [==============================] - 5s 11ms/step - loss: 9.6238e-08 - accuracy: 1.0000 - val_loss: 2.1375e-10 - val_accuracy: 1.0000\n",
            "Epoch 13/20\n",
            "488/488 [==============================] - 5s 11ms/step - loss: 4.9884e-08 - accuracy: 1.0000 - val_loss: 1.5268e-10 - val_accuracy: 1.0000\n",
            "Epoch 14/20\n",
            "488/488 [==============================] - 5s 11ms/step - loss: 0.0059 - accuracy: 0.9992 - val_loss: 8.6735e-07 - val_accuracy: 1.0000\n",
            "Epoch 15/20\n",
            "488/488 [==============================] - 5s 11ms/step - loss: 5.9724e-07 - accuracy: 1.0000 - val_loss: 2.7482e-10 - val_accuracy: 1.0000\n",
            "Epoch 16/20\n",
            "488/488 [==============================] - 5s 11ms/step - loss: 6.1268e-08 - accuracy: 1.0000 - val_loss: 1.5268e-10 - val_accuracy: 1.0000\n"
          ]
        }
      ]
    },
    {
      "cell_type": "code",
      "source": [
        "len(history.history['loss'])"
      ],
      "metadata": {
        "colab": {
          "base_uri": "https://localhost:8080/"
        },
        "id": "CYXLiF3ficTT",
        "outputId": "066ea000-a7e9-4323-fd80-afb8117d6b7a"
      },
      "execution_count": 21,
      "outputs": [
        {
          "output_type": "execute_result",
          "data": {
            "text/plain": [
              "16"
            ]
          },
          "metadata": {},
          "execution_count": 21
        }
      ]
    },
    {
      "cell_type": "code",
      "source": [
        "y_pred_custom = model.predict(x_test)\n",
        "acc = accuracy_score(np.argmax(y_test, axis=1), np.argmax(y_pred_custom, axis=1))\n",
        "acc*100"
      ],
      "metadata": {
        "colab": {
          "base_uri": "https://localhost:8080/"
        },
        "id": "ft-TcsMFicVy",
        "outputId": "6ee54be9-69ce-45f8-8f76-1a5db67c0bea"
      },
      "execution_count": 22,
      "outputs": [
        {
          "output_type": "execute_result",
          "data": {
            "text/plain": [
              "100.0"
            ]
          },
          "metadata": {},
          "execution_count": 22
        }
      ]
    },
    {
      "cell_type": "code",
      "source": [
        "# save the model\n",
        "model.save('wordsNet.h5')"
      ],
      "metadata": {
        "id": "a89ufgnaicZW"
      },
      "execution_count": 24,
      "outputs": []
    },
    {
      "cell_type": "code",
      "source": [
        "plt.plot(history.history['accuracy'])\n",
        "plt.plot(history.history['val_accuracy'])\n",
        "plt.plot(history.history['loss'])\n",
        "plt.plot(history.history['val_loss'])\n",
        "plt.title(\"Accuracy/Loss\")\n",
        "plt.xlabel('epoch')\n",
        "plt.ylabel('accuracy')\n",
        "plt.legend(['train_accuracy','test_accuracy','loss', 'validation_loss'])\n",
        "plt.show()"
      ],
      "metadata": {
        "colab": {
          "base_uri": "https://localhost:8080/",
          "height": 295
        },
        "id": "ELQFcLYFicbH",
        "outputId": "929044b8-a9ac-4a13-bdd9-b946c74263cd"
      },
      "execution_count": 23,
      "outputs": [
        {
          "output_type": "display_data",
          "data": {
            "text/plain": [
              "<Figure size 432x288 with 1 Axes>"
            ],
            "image/png": "[encoded data removed]"
          },
          "metadata": {
            "needs_background": "light"
          }
        }
      ]
    }
  ]
}