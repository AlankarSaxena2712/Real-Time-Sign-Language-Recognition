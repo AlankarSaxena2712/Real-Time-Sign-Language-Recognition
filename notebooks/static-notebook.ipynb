{
  "nbformat": 4,
  "nbformat_minor": 0,
  "metadata": {
    "colab": {
      "name": "Untitled0.ipynb",
      "provenance": []
    },
    "kernelspec": {
      "name": "python3",
      "display_name": "Python 3"
    },
    "language_info": {
      "name": "python"
    },
    "accelerator": "GPU"
  },
  "cells": [
    {
      "cell_type": "code",
      "execution_count": null,
      "metadata": {
        "colab": {
          "base_uri": "https://localhost:8080/"
        },
        "id": "cEAicR6nbiGd",
        "outputId": "9be6369d-dc3c-4236-e05f-78db15f50398"
      },
      "outputs": [
        {
          "output_type": "stream",
          "name": "stdout",
          "text": [
            "Drive already mounted at /content/drive; to attempt to forcibly remount, call drive.mount(\"/content/drive\", force_remount=True).\n"
          ]
        }
      ],
      "source": [
        "from google.colab import drive\n",
        "drive.mount('/content/drive')"
      ]
    },
    {
      "cell_type": "code",
      "source": [
        "import os\n",
        "import numpy as np\n",
        "import cv2\n",
        "import tensorflow as tf\n",
        "from tensorflow.keras.preprocessing.image import load_img, img_to_array\n",
        "from tensorflow.keras.utils import to_categorical\n",
        "from sklearn.model_selection import train_test_split\n",
        "from tensorflow.keras.models import Sequential\n",
        "from tensorflow.keras.layers import Dense, BatchNormalization, Flatten\n",
        "from tensorflow.keras.layers import Conv2D, MaxPooling2D, Dropout, GlobalAveragePooling2D\n",
        "from tensorflow.keras.applications import MobileNetV2\n",
        "from tensorflow.keras.applications.mobilenet_v2 import preprocess_input\n",
        "# from tensorflow.keras.models import Model\n",
        "from tensorflow.keras.callbacks import EarlyStopping\n",
        "from tensorflow.keras.preprocessing.image import ImageDataGenerator\n",
        "from sklearn.metrics import accuracy_score\n",
        "from sklearn.utils import shuffle\n",
        "import matplotlib.pyplot as plt\n",
        "%matplotlib inline"
      ],
      "metadata": {
        "id": "3-oxDioFb0S_"
      },
      "execution_count": null,
      "outputs": []
    },
    {
      "cell_type": "code",
      "source": [
        "directory = '/content/drive/MyDrive/static-words'"
      ],
      "metadata": {
        "id": "WFMJzgPUb84x"
      },
      "execution_count": null,
      "outputs": []
    },
    {
      "cell_type": "code",
      "source": [
        "dict_labels = {\n",
        "    'Bus':0,\n",
        "    'CalmDown':1,\n",
        "    'Car':2,\n",
        "    'Church':3,\n",
        "    'Family':4,\n",
        "    'Father':5,\n",
        "    'Fine':6,\n",
        "    'Hungry':7,\n",
        "    'IHateYou':8,\n",
        "    'Key':9,\n",
        "    'Love':10,\n",
        "    'Mother':11,\n",
        "    'Pray':12,\n",
        "    'okay':13\n",
        "}"
      ],
      "metadata": {
        "id": "xB-gX7nxfQQn"
      },
      "execution_count": null,
      "outputs": []
    },
    {
      "cell_type": "code",
      "source": [
        "images = []\n",
        "labels = []\n",
        "for label in os.listdir(directory):\n",
        "    label_path = os.path.join(directory, label)\n",
        "    for img in os.listdir(label_path):\n",
        "        image_path = os.path.join(label_path, img)\n",
        "        img = load_img(image_path, target_size=(96, 96))\n",
        "        img = img_to_array(img)\n",
        "        img = preprocess_input(img)\n",
        "        images.append(img)\n",
        "        labels.append(dict_labels[label])"
      ],
      "metadata": {
        "id": "QsHlyjyJfGC9"
      },
      "execution_count": null,
      "outputs": []
    },
    {
      "cell_type": "code",
      "source": [
        "images = np.array(images)\n",
        "labels = np.array(labels)"
      ],
      "metadata": {
        "id": "-cd1NKdQhC9Z"
      },
      "execution_count": null,
      "outputs": []
    },
    {
      "cell_type": "code",
      "source": [
        "print(\"Shape of data: {}\".format(images.shape))"
      ],
      "metadata": {
        "colab": {
          "base_uri": "https://localhost:8080/"
        },
        "id": "GM_FP7YqhzJR",
        "outputId": "a884e2f5-9530-464a-f5d8-ffa786fac89e"
      },
      "execution_count": null,
      "outputs": [
        {
          "output_type": "stream",
          "name": "stdout",
          "text": [
            "Shape of data: (19516, 96, 96, 3)\n"
          ]
        }
      ]
    },
    {
      "cell_type": "code",
      "source": [
        "labels = to_categorical(labels, num_classes = 14)"
      ],
      "metadata": {
        "id": "bSzfZ4sNhzLh"
      },
      "execution_count": null,
      "outputs": []
    },
    {
      "cell_type": "code",
      "source": [
        "images, labels = shuffle(images, labels)"
      ],
      "metadata": {
        "id": "Ro0GH1qVhzOU"
      },
      "execution_count": null,
      "outputs": []
    },
    {
      "cell_type": "code",
      "source": [
        "# images = images / 255.0"
      ],
      "metadata": {
        "id": "lKOWPB6bhzTh"
      },
      "execution_count": null,
      "outputs": []
    },
    {
      "cell_type": "code",
      "source": [
        "# split the data into train and test data\n",
        "# train-size: 80%\n",
        "# test/val-size: 20%\n",
        "x_train, x_test, y_train, y_test = train_test_split(images, labels, test_size=0.2)"
      ],
      "metadata": {
        "id": "YURC4eivhzV-"
      },
      "execution_count": null,
      "outputs": []
    },
    {
      "cell_type": "code",
      "source": [
        "print(\"Training images shape: {} || Training labels shape: {}\".format(x_train.shape, y_train.shape))\n",
        "print(\"Test images shape: {} || Test labels shape: {}\".format(x_test.shape, y_test.shape))"
      ],
      "metadata": {
        "colab": {
          "base_uri": "https://localhost:8080/"
        },
        "id": "cDnyj7KjhzYO",
        "outputId": "2995a544-8417-4dac-d16a-dd28480799bc"
      },
      "execution_count": null,
      "outputs": [
        {
          "output_type": "stream",
          "name": "stdout",
          "text": [
            "Training images shape: (15612, 96, 96, 3) || Training labels shape: (15612, 14)\n",
            "Test images shape: (3904, 96, 96, 3) || Test labels shape: (3904, 14)\n"
          ]
        }
      ]
    },
    {
      "cell_type": "code",
      "source": [
        "model = Sequential()\n",
        "\n",
        "model.add(Conv2D(16, (3,3), activation='relu', input_shape=(50,50,3)))\n",
        "model.add(Conv2D(16, (3,3), activation='relu'))\n",
        "model.add(Conv2D(16, (3,3), activation='relu'))\n",
        "model.add(MaxPooling2D(2,2))\n",
        "\n",
        "model.add(Conv2D(32, (3,3), activation='relu'))\n",
        "model.add(Conv2D(32, (3,3), activation='relu'))\n",
        "model.add(Conv2D(32, (3,3), activation='relu'))\n",
        "model.add(MaxPooling2D(2,2))\n",
        "\n",
        "model.add(Conv2D(64, (3,3), activation='relu'))\n",
        "model.add(Conv2D(64, (3,3), activation='relu'))\n",
        "model.add(Conv2D(64, (3,3), activation='relu'))\n",
        "model.add(MaxPooling2D(2,2))\n",
        "\n",
        "model.add(Flatten())\n",
        "model.add(Dense(128, activation='relu'))\n",
        "model.add(Dense(14, activation='softmax'))"
      ],
      "metadata": {
        "id": "UgbUf1QMhzag"
      },
      "execution_count": null,
      "outputs": []
    },
    {
      "cell_type": "code",
      "source": [
        "model.summary()"
      ],
      "metadata": {
        "colab": {
          "base_uri": "https://localhost:8080/"
        },
        "id": "Oro8VF8xhzdE",
        "outputId": "a114c168-76c4-470d-81bb-4287fe9fe4c8"
      },
      "execution_count": null,
      "outputs": [
        {
          "output_type": "stream",
          "name": "stdout",
          "text": [
            "Model: \"sequential\"\n",
            "_________________________________________________________________\n",
            " Layer (type)                Output Shape              Param #   \n",
            "=================================================================\n",
            " conv2d (Conv2D)             (None, 48, 48, 16)        448       \n",
            "                                                                 \n",
            " conv2d_1 (Conv2D)           (None, 46, 46, 16)        2320      \n",
            "                                                                 \n",
            " conv2d_2 (Conv2D)           (None, 44, 44, 16)        2320      \n",
            "                                                                 \n",
            " max_pooling2d (MaxPooling2D  (None, 22, 22, 16)       0         \n",
            " )                                                               \n",
            "                                                                 \n",
            " conv2d_3 (Conv2D)           (None, 20, 20, 32)        4640      \n",
            "                                                                 \n",
            " conv2d_4 (Conv2D)           (None, 18, 18, 32)        9248      \n",
            "                                                                 \n",
            " conv2d_5 (Conv2D)           (None, 16, 16, 32)        9248      \n",
            "                                                                 \n",
            " max_pooling2d_1 (MaxPooling  (None, 8, 8, 32)         0         \n",
            " 2D)                                                             \n",
            "                                                                 \n",
            " conv2d_6 (Conv2D)           (None, 6, 6, 64)          18496     \n",
            "                                                                 \n",
            " conv2d_7 (Conv2D)           (None, 4, 4, 64)          36928     \n",
            "                                                                 \n",
            " conv2d_8 (Conv2D)           (None, 2, 2, 64)          36928     \n",
            "                                                                 \n",
            " max_pooling2d_2 (MaxPooling  (None, 1, 1, 64)         0         \n",
            " 2D)                                                             \n",
            "                                                                 \n",
            " flatten (Flatten)           (None, 64)                0         \n",
            "                                                                 \n",
            " dense (Dense)               (None, 128)               8320      \n",
            "                                                                 \n",
            " dense_1 (Dense)             (None, 14)                1806      \n",
            "                                                                 \n",
            "=================================================================\n",
            "Total params: 130,702\n",
            "Trainable params: 130,702\n",
            "Non-trainable params: 0\n",
            "_________________________________________________________________\n"
          ]
        }
      ]
    },
    {
      "cell_type": "code",
      "source": [
        "# compile the model\n",
        "model.compile(\n",
        "    optimizer='adam',\n",
        "    loss='categorical_crossentropy',\n",
        "    metrics=['accuracy']\n",
        ")"
      ],
      "metadata": {
        "id": "k0lQlBoKhzft"
      },
      "execution_count": null,
      "outputs": []
    },
    {
      "cell_type": "code",
      "source": [
        "# set callbacks\n",
        "callback = EarlyStopping(\n",
        "    monitor='loss',\n",
        "    patience=3\n",
        ")"
      ],
      "metadata": {
        "id": "N_73k98ChziO"
      },
      "execution_count": null,
      "outputs": []
    },
    {
      "cell_type": "code",
      "source": [
        "datagen = ImageDataGenerator(horizontal_flip=True)"
      ],
      "metadata": {
        "id": "PujNuqeBiU2p"
      },
      "execution_count": null,
      "outputs": []
    },
    {
      "cell_type": "code",
      "source": [
        "# fit the train data into the model\n",
        "history = model.fit(\n",
        "    datagen.flow(x_train, y_train, batch_size=32),\n",
        "    epochs=20,\n",
        "    callbacks=[callback],\n",
        "    validation_data=(x_test, y_test)\n",
        ")"
      ],
      "metadata": {
        "colab": {
          "base_uri": "https://localhost:8080/"
        },
        "id": "KEEdXMO5iZSF",
        "outputId": "dad7a9a9-d082-4ece-acc8-f7a5d6c762c1"
      },
      "execution_count": null,
      "outputs": [
        {
          "output_type": "stream",
          "name": "stdout",
          "text": [
            "Epoch 1/20\n",
            "488/488 [==============================] - 20s 17ms/step - loss: 0.1615 - accuracy: 0.9466 - val_loss: 4.2212e-05 - val_accuracy: 1.0000\n",
            "Epoch 2/20\n",
            "488/488 [==============================] - 8s 16ms/step - loss: 7.0614e-07 - accuracy: 1.0000 - val_loss: 4.0098e-05 - val_accuracy: 1.0000\n",
            "Epoch 3/20\n",
            "488/488 [==============================] - 8s 16ms/step - loss: 1.5597e-07 - accuracy: 1.0000 - val_loss: 2.2608e-05 - val_accuracy: 1.0000\n",
            "Epoch 4/20\n",
            "488/488 [==============================] - 8s 17ms/step - loss: 8.1847e-08 - accuracy: 1.0000 - val_loss: 1.5921e-05 - val_accuracy: 1.0000\n",
            "Epoch 5/20\n",
            "488/488 [==============================] - 8s 16ms/step - loss: 5.0755e-08 - accuracy: 1.0000 - val_loss: 1.0872e-05 - val_accuracy: 1.0000\n",
            "Epoch 6/20\n",
            "488/488 [==============================] - 8s 16ms/step - loss: 5.1317e-08 - accuracy: 1.0000 - val_loss: 7.0178e-06 - val_accuracy: 1.0000\n",
            "Epoch 7/20\n",
            "488/488 [==============================] - 8s 16ms/step - loss: 3.7834e-08 - accuracy: 1.0000 - val_loss: 1.0059e-05 - val_accuracy: 1.0000\n",
            "Epoch 8/20\n",
            "488/488 [==============================] - 8s 16ms/step - loss: 2.6770e-08 - accuracy: 1.0000 - val_loss: 5.8495e-06 - val_accuracy: 1.0000\n",
            "Epoch 9/20\n",
            "488/488 [==============================] - 8s 16ms/step - loss: 1.9021e-08 - accuracy: 1.0000 - val_loss: 5.2713e-06 - val_accuracy: 1.0000\n",
            "Epoch 10/20\n",
            "488/488 [==============================] - 8s 17ms/step - loss: 2.4297e-08 - accuracy: 1.0000 - val_loss: 5.2561e-06 - val_accuracy: 1.0000\n",
            "Epoch 11/20\n",
            "488/488 [==============================] - 8s 16ms/step - loss: 2.6839e-08 - accuracy: 1.0000 - val_loss: 3.1720e-06 - val_accuracy: 1.0000\n",
            "Epoch 12/20\n",
            "488/488 [==============================] - 8s 16ms/step - loss: 2.7214e-08 - accuracy: 1.0000 - val_loss: 2.9990e-06 - val_accuracy: 1.0000\n"
          ]
        }
      ]
    },
    {
      "cell_type": "code",
      "source": [
        "len(history.history['loss'])"
      ],
      "metadata": {
        "colab": {
          "base_uri": "https://localhost:8080/"
        },
        "id": "CYXLiF3ficTT",
        "outputId": "d47e7360-07cb-42b5-e08e-6a70e4985cbc"
      },
      "execution_count": null,
      "outputs": [
        {
          "output_type": "execute_result",
          "data": {
            "text/plain": [
              "12"
            ]
          },
          "metadata": {},
          "execution_count": 21
        }
      ]
    },
    {
      "cell_type": "code",
      "source": [
        "y_pred_custom = model.predict(x_test)\n",
        "acc = accuracy_score(np.argmax(y_test, axis=1), np.argmax(y_pred_custom, axis=1))\n",
        "acc*100"
      ],
      "metadata": {
        "colab": {
          "base_uri": "https://localhost:8080/"
        },
        "id": "ft-TcsMFicVy",
        "outputId": "2553c77e-b983-4272-b1ea-466faf839d71"
      },
      "execution_count": null,
      "outputs": [
        {
          "output_type": "execute_result",
          "data": {
            "text/plain": [
              "100.0"
            ]
          },
          "metadata": {},
          "execution_count": 22
        }
      ]
    },
    {
      "cell_type": "code",
      "source": [
        "# save the model\n",
        "model.save('wordsNet-01.h5')"
      ],
      "metadata": {
        "id": "a89ufgnaicZW"
      },
      "execution_count": null,
      "outputs": []
    },
    {
      "cell_type": "code",
      "source": [
        "plt.plot(history.history['accuracy'])\n",
        "plt.plot(history.history['val_accuracy'])\n",
        "plt.plot(history.history['loss'])\n",
        "plt.plot(history.history['val_loss'])\n",
        "plt.title(\"Accuracy/Loss\")\n",
        "plt.xlabel('epoch')\n",
        "plt.ylabel('accuracy')\n",
        "plt.legend(['train_accuracy','test_accuracy','loss', 'validation_loss'])\n",
        "plt.show()"
      ],
      "metadata": {
        "colab": {
          "base_uri": "https://localhost:8080/",
          "height": 295
        },
        "id": "ELQFcLYFicbH",
        "outputId": "6b48631a-6b58-4786-a355-0889480776e2"
      },
      "execution_count": null,
      "outputs": [
        {
          "output_type": "display_data",
          "data": {
            "text/plain": [
              "<Figure size 432x288 with 1 Axes>"
            ],
            "image/png": "[encoded data removed]"
          },
          "metadata": {
            "needs_background": "light"
          }
        }
      ]
    },
    {
      "cell_type": "markdown",
      "source": [
        "# mobileNet"
      ],
      "metadata": {
        "id": "UK3QzDSXqNEI"
      }
    },
    {
      "cell_type": "code",
      "source": [
        "mobnet = MobileNetV2(input_shape=(96,96,3), include_top=False, weights='imagenet', pooling='avg')\n",
        "mobnet.trainable=False"
      ],
      "metadata": {
        "id": "NXKqafF4jzvB"
      },
      "execution_count": null,
      "outputs": []
    },
    {
      "cell_type": "code",
      "source": [
        "mobnet_inputs = mobnet.inputs\n",
        "dense_layer = tf.keras.layers.Dense(256, activation='relu')(mobnet.output)\n",
        "output_layer = tf.keras.layers.Dense(14, activation='softmax')(dense_layer)\n",
        "mobnet_model01 = tf.keras.Model(inputs=mobnet_inputs, outputs=output_layer)"
      ],
      "metadata": {
        "id": "C6ZUCBHLq0s7"
      },
      "execution_count": null,
      "outputs": []
    },
    {
      "cell_type": "code",
      "source": [
        "# compile the model\n",
        "mobnet_model01.compile(\n",
        "    optimizer='adam',\n",
        "    loss='categorical_crossentropy',\n",
        "    metrics=['accuracy']\n",
        ")"
      ],
      "metadata": {
        "id": "G4NaLamEsE1V"
      },
      "execution_count": null,
      "outputs": []
    },
    {
      "cell_type": "code",
      "source": [
        "# fit the train data into the model\n",
        "history_mobnet = mobnet_model01.fit(\n",
        "    datagen.flow(x_train, y_train, batch_size=32),\n",
        "    epochs=20,\n",
        "    callbacks=[callback],\n",
        "    validation_data=(x_test, y_test)\n",
        ")"
      ],
      "metadata": {
        "colab": {
          "base_uri": "https://localhost:8080/"
        },
        "id": "IVZgcAcMsNrA",
        "outputId": "32e5222b-7456-4552-ad0f-97a4917e7607"
      },
      "execution_count": null,
      "outputs": [
        {
          "output_type": "stream",
          "name": "stdout",
          "text": [
            "Epoch 1/20\n",
            "488/488 [==============================] - 30s 35ms/step - loss: 0.0223 - accuracy: 0.9952 - val_loss: 1.2531e-04 - val_accuracy: 1.0000\n",
            "Epoch 2/20\n",
            "488/488 [==============================] - 16s 32ms/step - loss: 0.0029 - accuracy: 0.9995 - val_loss: 3.2495e-04 - val_accuracy: 0.9997\n",
            "Epoch 3/20\n",
            "488/488 [==============================] - 16s 33ms/step - loss: 0.0021 - accuracy: 0.9996 - val_loss: 0.0017 - val_accuracy: 0.9997\n",
            "Epoch 4/20\n",
            "488/488 [==============================] - 16s 33ms/step - loss: 8.5142e-04 - accuracy: 0.9997 - val_loss: 5.1210e-04 - val_accuracy: 0.9997\n",
            "Epoch 5/20\n",
            "488/488 [==============================] - 16s 32ms/step - loss: 2.5086e-05 - accuracy: 1.0000 - val_loss: 2.0395e-04 - val_accuracy: 0.9997\n",
            "Epoch 6/20\n",
            "488/488 [==============================] - 16s 32ms/step - loss: 2.4907e-06 - accuracy: 1.0000 - val_loss: 2.1343e-04 - val_accuracy: 0.9997\n",
            "Epoch 7/20\n",
            "488/488 [==============================] - 16s 32ms/step - loss: 9.2635e-07 - accuracy: 1.0000 - val_loss: 2.0562e-04 - val_accuracy: 0.9997\n",
            "Epoch 8/20\n",
            "488/488 [==============================] - 17s 35ms/step - loss: 7.2913e-07 - accuracy: 1.0000 - val_loss: 1.9455e-04 - val_accuracy: 0.9997\n",
            "Epoch 9/20\n",
            "488/488 [==============================] - 15s 32ms/step - loss: 4.5526e-07 - accuracy: 1.0000 - val_loss: 1.9541e-04 - val_accuracy: 0.9997\n",
            "Epoch 10/20\n",
            "488/488 [==============================] - 15s 32ms/step - loss: 5.0731e-07 - accuracy: 1.0000 - val_loss: 1.9250e-04 - val_accuracy: 0.9997\n",
            "Epoch 11/20\n",
            "488/488 [==============================] - 16s 32ms/step - loss: 3.3608e-07 - accuracy: 1.0000 - val_loss: 1.7718e-04 - val_accuracy: 1.0000\n",
            "Epoch 12/20\n",
            "488/488 [==============================] - 16s 32ms/step - loss: 2.7271e-07 - accuracy: 1.0000 - val_loss: 1.6133e-04 - val_accuracy: 1.0000\n",
            "Epoch 13/20\n",
            "488/488 [==============================] - 16s 33ms/step - loss: 2.2444e-07 - accuracy: 1.0000 - val_loss: 1.6986e-04 - val_accuracy: 1.0000\n",
            "Epoch 14/20\n",
            "488/488 [==============================] - 19s 39ms/step - loss: 1.7366e-07 - accuracy: 1.0000 - val_loss: 1.7178e-04 - val_accuracy: 1.0000\n",
            "Epoch 15/20\n",
            "488/488 [==============================] - 19s 39ms/step - loss: 2.2133e-07 - accuracy: 1.0000 - val_loss: 2.0923e-04 - val_accuracy: 0.9997\n",
            "Epoch 16/20\n",
            "488/488 [==============================] - 19s 38ms/step - loss: 1.2533e-07 - accuracy: 1.0000 - val_loss: 2.0841e-04 - val_accuracy: 0.9997\n",
            "Epoch 17/20\n",
            "488/488 [==============================] - 16s 32ms/step - loss: 8.4308e-08 - accuracy: 1.0000 - val_loss: 2.0978e-04 - val_accuracy: 0.9997\n",
            "Epoch 18/20\n",
            "488/488 [==============================] - 16s 32ms/step - loss: 8.7815e-08 - accuracy: 1.0000 - val_loss: 2.0827e-04 - val_accuracy: 0.9997\n",
            "Epoch 19/20\n",
            "488/488 [==============================] - 16s 32ms/step - loss: 6.4013e-08 - accuracy: 1.0000 - val_loss: 2.0132e-04 - val_accuracy: 0.9997\n",
            "Epoch 20/20\n",
            "488/488 [==============================] - 16s 32ms/step - loss: 3.2999e-08 - accuracy: 1.0000 - val_loss: 1.9737e-04 - val_accuracy: 0.9997\n"
          ]
        }
      ]
    },
    {
      "cell_type": "code",
      "source": [
        "mobnet_model01.save('mobnet_model01.h5')"
      ],
      "metadata": {
        "id": "cvRkoepMsWEq"
      },
      "execution_count": null,
      "outputs": []
    }
  ]
}