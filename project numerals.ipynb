{
 "cells": [
  {
   "cell_type": "code",
   "execution_count": 1,
   "metadata": {},
   "outputs": [],
   "source": [
    "import numpy as np\n",
    "import matplotlib.pyplot as plt\n",
    "%matplotlib inline\n",
    "import os\n",
    "from keras.preprocessing.image import load_img, img_to_array"
   ]
  },
  {
   "cell_type": "code",
   "execution_count": 10,
   "metadata": {},
   "outputs": [
    {
     "name": "stdout",
     "output_type": "stream",
     "text": [
      "d:\\Projects\\Real-Time-Sign-Language-Recognition\\Dataset\n",
      "['0', '1', '2', '3', '4', '5', '6', '7', '8', '9']\n"
     ]
    }
   ],
   "source": [
    "# print the path to the current Directory\n",
    "current_directory = os.getcwd()\n",
    "# print(current_directory)\n",
    "dataset_path = current_directory+\"\\Dataset\"\n",
    "print(dataset_path)\n",
    "# os.listdir(dataset_path)\n",
    "numerals_directory = dataset_path+\"\\\\Numerals\"\n",
    "print(os.listdir(numerals_directory))"
   ]
  },
  {
   "cell_type": "code",
   "execution_count": null,
   "metadata": {},
   "outputs": [],
   "source": [
    "data = []\n",
    "label = []\n",
    "\n",
    "# load the images\n",
    "for numeral in os.listdir(numerals_directory):\n",
    "    numerals_path = os.path.join(numerals_directory, numeral)\n",
    "    for image in os.listdir(numerals_path):\n",
    "        image_path = os.path.join(numerals_path, image)\n",
    "        img = load_img(image_path, target_size=(256, 256))\n",
    "        img = img_to_array(img)\n",
    "        data.append(img)\n",
    "        label.append(int(numeral))"
   ]
  },
  {
   "cell_type": "code",
   "execution_count": null,
   "metadata": {},
   "outputs": [],
   "source": [
    "data = np.array(data)\n",
    "label = np.array(label)\n",
    "\n",
    "# save the numpy arrays\n",
    "np.save('data.npy', data)\n",
    "np.save('label.npy', label)\n"
   ]
  }
 ],
 "metadata": {
  "interpreter": {
   "hash": "7ec3019a7cb8f5739f8b27d55fc304c51580b268fd2b34191f81e31e11772118"
  },
  "kernelspec": {
   "display_name": "Python 3.8.1 64-bit",
   "language": "python",
   "name": "python3"
  },
  "language_info": {
   "codemirror_mode": {
    "name": "ipython",
    "version": 3
   },
   "file_extension": ".py",
   "mimetype": "text/x-python",
   "name": "python",
   "nbconvert_exporter": "python",
   "pygments_lexer": "ipython3",
   "version": "3.8.1"
  },
  "orig_nbformat": 4
 },
 "nbformat": 4,
 "nbformat_minor": 2
}
