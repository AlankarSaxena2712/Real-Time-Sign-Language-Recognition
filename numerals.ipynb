{
  "nbformat": 4,
  "nbformat_minor": 0,
  "metadata": {
    "colab": {
      "name": "Untitled0.ipynb",
      "provenance": []
    },
    "kernelspec": {
      "name": "python3",
      "display_name": "Python 3"
    },
    "language_info": {
      "name": "python"
    },
    "accelerator": "GPU"
  },
  "cells": [
    {
      "cell_type": "markdown",
      "source": [
        "# Import the necessary libraries"
      ],
      "metadata": {
        "id": "GG0dseUBrVhC"
      }
    },
    {
      "cell_type": "code",
      "source": [
        "# import the neccessary libraries\n",
        "import os\n",
        "import numpy as np\n",
        "from tensorflow.keras.preprocessing.image import load_img, img_to_array, ImageDataGenerator\n",
        "from tensorflow.keras.utils import to_categorical\n",
        "from sklearn.model_selection import train_test_split\n",
        "from tensorflow.keras.models import Sequential\n",
        "from tensorflow.keras.layers import Dense, BatchNormalization, Flatten\n",
        "from tensorflow.keras.layers import Conv2D, MaxPooling2D, Dropout, GlobalAveragePooling2D\n",
        "from tensorflow.keras.applications import MobileNetV2\n",
        "from tensorflow.keras.models import Model\n",
        "from tensorflow.keras.callbacks import EarlyStopping\n",
        "from sklearn.metrics import accuracy_score"
      ],
      "metadata": {
        "id": "Nw8Cx5M-aqpD"
      },
      "execution_count": 9,
      "outputs": []
    },
    {
      "cell_type": "markdown",
      "source": [
        "# Load the data and perform all the necessary pre-processing"
      ],
      "metadata": {
        "id": "dxrlQ3LtrgET"
      }
    },
    {
      "cell_type": "code",
      "source": [
        "# load the data and label in separate lists\n",
        "numerals_directory = '/content/drive/MyDrive/Dataset/Numerals'\n",
        "data = []\n",
        "label = []\n",
        "\n",
        "for numeral in os.listdir(numerals_directory):\n",
        "    numerals_path = os.path.join(numerals_directory, numeral)\n",
        "    for image in os.listdir(numerals_path):\n",
        "        image_path = os.path.join(numerals_path, image)\n",
        "        img = load_img(image_path, target_size=(128, 128))\n",
        "        img = img_to_array(img)\n",
        "        data.append(img)\n",
        "        label.append(int(numeral))\n",
        "\n",
        "# print(\"-----Completed-----\")"
      ],
      "metadata": {
        "id": "sx8MvCctZ-r7"
      },
      "execution_count": 2,
      "outputs": []
    },
    {
      "cell_type": "code",
      "source": [
        "# convert the lists to numpy arrays\n",
        "data = np.array(data)\n",
        "label = np.array(label)"
      ],
      "metadata": {
        "id": "mzDk8SorZ-wY"
      },
      "execution_count": 3,
      "outputs": []
    },
    {
      "cell_type": "code",
      "source": [
        "# check the size of the data and labels\n",
        "print(data.shape)\n",
        "print(label.shape)"
      ],
      "metadata": {
        "colab": {
          "base_uri": "https://localhost:8080/"
        },
        "id": "b4pdf74MZ-yq",
        "outputId": "f7cece8c-0889-4041-fa94-a86a0a8ac3a3"
      },
      "execution_count": 4,
      "outputs": [
        {
          "output_type": "stream",
          "name": "stdout",
          "text": [
            "(9532, 128, 128, 3)\n",
            "(9532,)\n"
          ]
        }
      ]
    },
    {
      "cell_type": "code",
      "source": [
        "# converting the numeral labels to array like label\n",
        "label = to_categorical(label, num_classes=10)"
      ],
      "metadata": {
        "id": "X_3r8THre_Rg"
      },
      "execution_count": 5,
      "outputs": []
    },
    {
      "cell_type": "code",
      "source": [
        "# shuffle the data\n",
        "n = np.arange(9532)\n",
        "np.random.shuffle(n)\n",
        "data_shuffled = data[n]\n",
        "label_shuffled = label[n]\n",
        "\n",
        "print(\"---Shuffling Completed Succesfully---\")"
      ],
      "metadata": {
        "colab": {
          "base_uri": "https://localhost:8080/"
        },
        "id": "tT09M0VrY0_2",
        "outputId": "83068945-4664-40af-874e-6b5d5228a147"
      },
      "execution_count": 6,
      "outputs": [
        {
          "output_type": "stream",
          "name": "stdout",
          "text": [
            "---Shuffling Completed Succesfully---\n"
          ]
        }
      ]
    },
    {
      "cell_type": "code",
      "source": [
        "data_shuffled = data_shuffled/255.0"
      ],
      "metadata": {
        "id": "1ghCMCcjZQzz"
      },
      "execution_count": 7,
      "outputs": []
    },
    {
      "cell_type": "code",
      "source": [
        "# split the data into train and test data\n",
        "# train-size: 80%\n",
        "# val-size: 20%\n",
        "x_train, x_test, y_train, y_test = train_test_split(data, label, test_size=0.1, stratify=label, random_state=12)"
      ],
      "metadata": {
        "id": "gwAoC6gWe_WS"
      },
      "execution_count": 8,
      "outputs": []
    },
    {
      "cell_type": "markdown",
      "source": [
        "# CUSTOM MODEL"
      ],
      "metadata": {
        "id": "UlxHll1tftIn"
      }
    },
    {
      "cell_type": "code",
      "source": [
        "# make a sequential model\n",
        "\n",
        "model = Sequential()\n",
        "\n",
        "model.add(Conv2D(64, (7,7), activation='relu', input_shape=(128,128,3)))\n",
        "model.add(MaxPooling2D(2,2))\n",
        "model.add(BatchNormalization())\n",
        "model.add(Dropout(0.2))\n",
        "\n",
        "model.add(Conv2D(128, (5,5), activation='relu'))\n",
        "model.add(MaxPooling2D(2,2))\n",
        "model.add(BatchNormalization())\n",
        "model.add(Dropout(0.2))\n",
        "\n",
        "model.add(Conv2D(128, (3,3), activation='relu'))\n",
        "model.add(MaxPooling2D(2,2))\n",
        "model.add(BatchNormalization())\n",
        "model.add(Dropout(0.2))\n",
        "\n",
        "model.add(Flatten())\n",
        "model.add(Dense(256, activation='relu'))\n",
        "model.add(Dense(10, activation='softmax'))"
      ],
      "metadata": {
        "id": "6846bRS81c9o"
      },
      "execution_count": 27,
      "outputs": []
    },
    {
      "cell_type": "code",
      "source": [
        "# compile the model\n",
        "model.compile(\n",
        "    optimizer='adam',\n",
        "    loss='binary_crossentropy',\n",
        "    metrics=['accuracy']\n",
        ")"
      ],
      "metadata": {
        "id": "JLNVPj2h1dBq"
      },
      "execution_count": 28,
      "outputs": []
    },
    {
      "cell_type": "code",
      "source": [
        "# set callbacks\n",
        "callback = EarlyStopping(\n",
        "    monitor='loss',\n",
        "    patience=3\n",
        ")"
      ],
      "metadata": {
        "id": "rB9inWoRgsKr"
      },
      "execution_count": 29,
      "outputs": []
    },
    {
      "cell_type": "code",
      "source": [
        "# fit the train data into the model\n",
        "b = model.fit(\n",
        "    x_train, y_train,\n",
        "    epochs=40,\n",
        "    callbacks=[callback],\n",
        "    batch_size=32\n",
        ")"
      ],
      "metadata": {
        "colab": {
          "base_uri": "https://localhost:8080/"
        },
        "id": "dgXYbcg6CJNW",
        "outputId": "3bc473ab-0a2e-4dae-f51e-a0000bcf322f"
      },
      "execution_count": 30,
      "outputs": [
        {
          "output_type": "stream",
          "name": "stdout",
          "text": [
            "Epoch 1/40\n",
            "269/269 [==============================] - 28s 92ms/step - loss: 0.1217 - accuracy: 0.8343\n",
            "Epoch 2/40\n",
            "269/269 [==============================] - 25s 92ms/step - loss: 0.0038 - accuracy: 0.9986\n",
            "Epoch 3/40\n",
            "269/269 [==============================] - 25s 91ms/step - loss: 0.0038 - accuracy: 0.9990\n",
            "Epoch 4/40\n",
            "269/269 [==============================] - 25s 92ms/step - loss: 0.0066 - accuracy: 0.9952\n",
            "Epoch 5/40\n",
            "269/269 [==============================] - 25s 91ms/step - loss: 0.0028 - accuracy: 0.9986\n",
            "Epoch 6/40\n",
            "269/269 [==============================] - 25s 95ms/step - loss: 4.7578e-04 - accuracy: 1.0000\n",
            "Epoch 7/40\n",
            "269/269 [==============================] - 25s 92ms/step - loss: 9.3891e-04 - accuracy: 0.9999\n",
            "Epoch 8/40\n",
            "269/269 [==============================] - 25s 91ms/step - loss: 0.0089 - accuracy: 0.9952\n",
            "Epoch 9/40\n",
            "269/269 [==============================] - 25s 91ms/step - loss: 0.0016 - accuracy: 0.9991\n"
          ]
        }
      ]
    },
    {
      "cell_type": "code",
      "source": [
        "len(b.history['loss'])"
      ],
      "metadata": {
        "colab": {
          "base_uri": "https://localhost:8080/"
        },
        "id": "JrSsSCNxi4sz",
        "outputId": "fea03193-4dfb-4d33-adbf-c28073b483a8"
      },
      "execution_count": 35,
      "outputs": [
        {
          "output_type": "execute_result",
          "data": {
            "text/plain": [
              "9"
            ]
          },
          "metadata": {},
          "execution_count": 35
        }
      ]
    },
    {
      "cell_type": "code",
      "source": [
        "y_pred_custom = model.predict(x_test)"
      ],
      "metadata": {
        "id": "UvAWblZChZB9"
      },
      "execution_count": 32,
      "outputs": []
    },
    {
      "cell_type": "code",
      "source": [
        "acc = accuracy_score(np.argmax(y_test, axis=1), np.argmax(y_pred_custom, axis=1))\n",
        "acc*100"
      ],
      "metadata": {
        "colab": {
          "base_uri": "https://localhost:8080/"
        },
        "id": "_LC39m46hXBK",
        "outputId": "03b325fb-41bc-4964-db27-c2edc77a08da"
      },
      "execution_count": 33,
      "outputs": [
        {
          "output_type": "execute_result",
          "data": {
            "text/plain": [
              "100.0"
            ]
          },
          "metadata": {},
          "execution_count": 33
        }
      ]
    },
    {
      "cell_type": "markdown",
      "source": [
        "# PRE-TRAINED MODEL\n",
        "## 1. MobileNetV2"
      ],
      "metadata": {
        "id": "k5_3tZv-fcHO"
      }
    },
    {
      "cell_type": "code",
      "source": [
        "# create the model\n",
        "# base model\n",
        "baseModel = MobileNetV2(input_shape=(128, 128, 3), include_top=False, weights=\"imagenet\")\n",
        "\n",
        "# head model\n",
        "headModel = baseModel.output\n",
        "headModel = GlobalAveragePooling2D(name=\"head_pooling\")(headModel)\n",
        "headModel = Dense(512, activation=\"relu\")(headModel)\n",
        "headModel = Dropout(0.5)(headModel)\n",
        "headModel = Dense(10, activation=\"softmax\")(headModel)\n",
        "\n",
        "# stack the head model on top of the base model\n",
        "model1 = Model(inputs=baseModel.input, outputs=headModel)\n",
        "\n",
        "# loop over all layers in the base model and freeze them\n",
        "for layer in baseModel.layers:\n",
        "    layer.trainable = False"
      ],
      "metadata": {
        "id": "hcLwk7bQNi5Y"
      },
      "execution_count": 10,
      "outputs": []
    },
    {
      "cell_type": "code",
      "source": [
        "# compile the model\n",
        "model1.compile(\n",
        "    optimizer='adam',\n",
        "    loss='binary_crossentropy',\n",
        "    metrics=['accuracy']\n",
        ")"
      ],
      "metadata": {
        "id": "aN6ng_OYOdtG"
      },
      "execution_count": 11,
      "outputs": []
    },
    {
      "cell_type": "code",
      "source": [
        "# set callbacks\n",
        "callback = EarlyStopping(\n",
        "    monitor='loss',\n",
        "    patience=3\n",
        ")"
      ],
      "metadata": {
        "id": "gnmY_Ct3bXQR"
      },
      "execution_count": 12,
      "outputs": []
    },
    {
      "cell_type": "code",
      "source": [
        "c = model1.fit(\n",
        "    x_train, y_train, epochs=40, callbacks=[callback]\n",
        ")"
      ],
      "metadata": {
        "colab": {
          "base_uri": "https://localhost:8080/"
        },
        "id": "k-uSoEVVNi7d",
        "outputId": "55aff43f-5d57-4a1c-bd4b-cef521f4612f"
      },
      "execution_count": 13,
      "outputs": [
        {
          "output_type": "stream",
          "name": "stdout",
          "text": [
            "Epoch 1/40\n",
            "269/269 [==============================] - 21s 35ms/step - loss: 0.2965 - accuracy: 0.3123\n",
            "Epoch 2/40\n",
            "269/269 [==============================] - 9s 34ms/step - loss: 0.2230 - accuracy: 0.5256\n",
            "Epoch 3/40\n",
            "269/269 [==============================] - 9s 34ms/step - loss: 0.1908 - accuracy: 0.6153\n",
            "Epoch 4/40\n",
            "269/269 [==============================] - 9s 34ms/step - loss: 0.1722 - accuracy: 0.6629\n",
            "Epoch 5/40\n",
            "269/269 [==============================] - 9s 34ms/step - loss: 0.1582 - accuracy: 0.6950\n",
            "Epoch 6/40\n",
            "269/269 [==============================] - 9s 34ms/step - loss: 0.1494 - accuracy: 0.7168\n",
            "Epoch 7/40\n",
            "269/269 [==============================] - 9s 34ms/step - loss: 0.1443 - accuracy: 0.7276\n",
            "Epoch 8/40\n",
            "269/269 [==============================] - 9s 34ms/step - loss: 0.1404 - accuracy: 0.7349\n",
            "Epoch 9/40\n",
            "269/269 [==============================] - 9s 34ms/step - loss: 0.1300 - accuracy: 0.7578\n",
            "Epoch 10/40\n",
            "269/269 [==============================] - 9s 34ms/step - loss: 0.1250 - accuracy: 0.7699\n",
            "Epoch 11/40\n",
            "269/269 [==============================] - 9s 34ms/step - loss: 0.1219 - accuracy: 0.7796\n",
            "Epoch 12/40\n",
            "269/269 [==============================] - 9s 34ms/step - loss: 0.1159 - accuracy: 0.7934\n",
            "Epoch 13/40\n",
            "269/269 [==============================] - 9s 34ms/step - loss: 0.1108 - accuracy: 0.8033\n",
            "Epoch 14/40\n",
            "269/269 [==============================] - 9s 34ms/step - loss: 0.1091 - accuracy: 0.8087\n",
            "Epoch 15/40\n",
            "269/269 [==============================] - 9s 34ms/step - loss: 0.1073 - accuracy: 0.8097\n",
            "Epoch 16/40\n",
            "269/269 [==============================] - 9s 34ms/step - loss: 0.1015 - accuracy: 0.8236\n",
            "Epoch 17/40\n",
            "269/269 [==============================] - 9s 34ms/step - loss: 0.0997 - accuracy: 0.8233\n",
            "Epoch 18/40\n",
            "269/269 [==============================] - 9s 34ms/step - loss: 0.1022 - accuracy: 0.8255\n",
            "Epoch 19/40\n",
            "269/269 [==============================] - 9s 34ms/step - loss: 0.1049 - accuracy: 0.8186\n",
            "Epoch 20/40\n",
            "269/269 [==============================] - 9s 34ms/step - loss: 0.0973 - accuracy: 0.8292\n",
            "Epoch 21/40\n",
            "269/269 [==============================] - 9s 34ms/step - loss: 0.0947 - accuracy: 0.8347\n",
            "Epoch 22/40\n",
            "269/269 [==============================] - 9s 34ms/step - loss: 0.0933 - accuracy: 0.8376\n",
            "Epoch 23/40\n",
            "269/269 [==============================] - 9s 34ms/step - loss: 0.0898 - accuracy: 0.8467\n",
            "Epoch 24/40\n",
            "269/269 [==============================] - 9s 34ms/step - loss: 0.0896 - accuracy: 0.8478\n",
            "Epoch 25/40\n",
            "269/269 [==============================] - 9s 34ms/step - loss: 0.0861 - accuracy: 0.8517\n",
            "Epoch 26/40\n",
            "269/269 [==============================] - 9s 35ms/step - loss: 0.0891 - accuracy: 0.8515\n",
            "Epoch 27/40\n",
            "269/269 [==============================] - 9s 35ms/step - loss: 0.0887 - accuracy: 0.8497\n",
            "Epoch 28/40\n",
            "269/269 [==============================] - 9s 34ms/step - loss: 0.0867 - accuracy: 0.8532\n"
          ]
        }
      ]
    },
    {
      "cell_type": "code",
      "source": [
        "len(c.history['loss'])"
      ],
      "metadata": {
        "colab": {
          "base_uri": "https://localhost:8080/"
        },
        "id": "x9C7WsakNjAi",
        "outputId": "c6d6c3d2-b51c-4546-cd39-740ca75aef46"
      },
      "execution_count": 14,
      "outputs": [
        {
          "output_type": "execute_result",
          "data": {
            "text/plain": [
              "28"
            ]
          },
          "metadata": {},
          "execution_count": 14
        }
      ]
    },
    {
      "cell_type": "code",
      "source": [
        "y_pred_mobnet = model1.predict(x_test)"
      ],
      "metadata": {
        "id": "XGL2WmTFeQ0c"
      },
      "execution_count": 15,
      "outputs": []
    },
    {
      "cell_type": "code",
      "source": [
        "acc_mobnet = accuracy_score(np.argmax(y_test, axis=1), np.argmax(y_pred_mobnet, axis=1))\n",
        "acc_mobnet*100"
      ],
      "metadata": {
        "colab": {
          "base_uri": "https://localhost:8080/"
        },
        "id": "fpCXgfUleQ2y",
        "outputId": "af596ef5-07ba-4baf-f6cb-de2fa5ccb97b"
      },
      "execution_count": 16,
      "outputs": [
        {
          "output_type": "execute_result",
          "data": {
            "text/plain": [
              "84.80083857442348"
            ]
          },
          "metadata": {},
          "execution_count": 16
        }
      ]
    }
  ]
}